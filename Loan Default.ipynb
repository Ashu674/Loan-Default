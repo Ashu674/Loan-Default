{
 "cells": [
  {
   "cell_type": "code",
   "execution_count": 3,
   "id": "e372ab4d",
   "metadata": {},
   "outputs": [],
   "source": [
    "#Including the basic libraries at the start\n",
    "import pandas as pd\n",
    "import numpy as np\n"
   ]
  },
  {
   "cell_type": "code",
   "execution_count": 4,
   "id": "43549e82",
   "metadata": {},
   "outputs": [],
   "source": [
    "#importing the dataset\n",
    "df=pd.read_csv(r'C:\\Users\\Personal\\Downloads\\Default_Fin.csv')"
   ]
  },
  {
   "cell_type": "code",
   "execution_count": 5,
   "id": "8070a9b5",
   "metadata": {},
   "outputs": [
    {
     "data": {
      "text/html": [
       "<div>\n",
       "<style scoped>\n",
       "    .dataframe tbody tr th:only-of-type {\n",
       "        vertical-align: middle;\n",
       "    }\n",
       "\n",
       "    .dataframe tbody tr th {\n",
       "        vertical-align: top;\n",
       "    }\n",
       "\n",
       "    .dataframe thead th {\n",
       "        text-align: right;\n",
       "    }\n",
       "</style>\n",
       "<table border=\"1\" class=\"dataframe\">\n",
       "  <thead>\n",
       "    <tr style=\"text-align: right;\">\n",
       "      <th></th>\n",
       "      <th>Index</th>\n",
       "      <th>Employed</th>\n",
       "      <th>Bank Balance</th>\n",
       "      <th>Annual Salary</th>\n",
       "      <th>Defaulted?</th>\n",
       "    </tr>\n",
       "  </thead>\n",
       "  <tbody>\n",
       "    <tr>\n",
       "      <th>0</th>\n",
       "      <td>1</td>\n",
       "      <td>1</td>\n",
       "      <td>8754.36</td>\n",
       "      <td>532339.56</td>\n",
       "      <td>0</td>\n",
       "    </tr>\n",
       "    <tr>\n",
       "      <th>1</th>\n",
       "      <td>2</td>\n",
       "      <td>0</td>\n",
       "      <td>9806.16</td>\n",
       "      <td>145273.56</td>\n",
       "      <td>0</td>\n",
       "    </tr>\n",
       "    <tr>\n",
       "      <th>2</th>\n",
       "      <td>3</td>\n",
       "      <td>1</td>\n",
       "      <td>12882.60</td>\n",
       "      <td>381205.68</td>\n",
       "      <td>0</td>\n",
       "    </tr>\n",
       "    <tr>\n",
       "      <th>3</th>\n",
       "      <td>4</td>\n",
       "      <td>1</td>\n",
       "      <td>6351.00</td>\n",
       "      <td>428453.88</td>\n",
       "      <td>0</td>\n",
       "    </tr>\n",
       "    <tr>\n",
       "      <th>4</th>\n",
       "      <td>5</td>\n",
       "      <td>1</td>\n",
       "      <td>9427.92</td>\n",
       "      <td>461562.00</td>\n",
       "      <td>0</td>\n",
       "    </tr>\n",
       "  </tbody>\n",
       "</table>\n",
       "</div>"
      ],
      "text/plain": [
       "   Index  Employed  Bank Balance  Annual Salary  Defaulted?\n",
       "0      1         1       8754.36      532339.56           0\n",
       "1      2         0       9806.16      145273.56           0\n",
       "2      3         1      12882.60      381205.68           0\n",
       "3      4         1       6351.00      428453.88           0\n",
       "4      5         1       9427.92      461562.00           0"
      ]
     },
     "execution_count": 5,
     "metadata": {},
     "output_type": "execute_result"
    }
   ],
   "source": [
    "df.head()"
   ]
  },
  {
   "cell_type": "code",
   "execution_count": 6,
   "id": "e9941f6b",
   "metadata": {},
   "outputs": [
    {
     "data": {
      "text/plain": [
       "Index            0\n",
       "Employed         0\n",
       "Bank Balance     0\n",
       "Annual Salary    0\n",
       "Defaulted?       0\n",
       "dtype: int64"
      ]
     },
     "execution_count": 6,
     "metadata": {},
     "output_type": "execute_result"
    }
   ],
   "source": [
    "df.isnull().sum()"
   ]
  },
  {
   "cell_type": "code",
   "execution_count": 7,
   "id": "18e3ab3f",
   "metadata": {},
   "outputs": [
    {
     "data": {
      "text/html": [
       "<div>\n",
       "<style scoped>\n",
       "    .dataframe tbody tr th:only-of-type {\n",
       "        vertical-align: middle;\n",
       "    }\n",
       "\n",
       "    .dataframe tbody tr th {\n",
       "        vertical-align: top;\n",
       "    }\n",
       "\n",
       "    .dataframe thead th {\n",
       "        text-align: right;\n",
       "    }\n",
       "</style>\n",
       "<table border=\"1\" class=\"dataframe\">\n",
       "  <thead>\n",
       "    <tr style=\"text-align: right;\">\n",
       "      <th></th>\n",
       "      <th>Index</th>\n",
       "      <th>Employed</th>\n",
       "      <th>Bank Balance</th>\n",
       "      <th>Annual Salary</th>\n",
       "      <th>Defaulted?</th>\n",
       "    </tr>\n",
       "  </thead>\n",
       "  <tbody>\n",
       "    <tr>\n",
       "      <th>Index</th>\n",
       "      <td>1.000000</td>\n",
       "      <td>-0.002597</td>\n",
       "      <td>0.010342</td>\n",
       "      <td>-0.001427</td>\n",
       "      <td>-0.005135</td>\n",
       "    </tr>\n",
       "    <tr>\n",
       "      <th>Employed</th>\n",
       "      <td>-0.002597</td>\n",
       "      <td>1.000000</td>\n",
       "      <td>-0.203578</td>\n",
       "      <td>0.753985</td>\n",
       "      <td>-0.035420</td>\n",
       "    </tr>\n",
       "    <tr>\n",
       "      <th>Bank Balance</th>\n",
       "      <td>0.010342</td>\n",
       "      <td>-0.203578</td>\n",
       "      <td>1.000000</td>\n",
       "      <td>-0.152243</td>\n",
       "      <td>0.350119</td>\n",
       "    </tr>\n",
       "    <tr>\n",
       "      <th>Annual Salary</th>\n",
       "      <td>-0.001427</td>\n",
       "      <td>0.753985</td>\n",
       "      <td>-0.152243</td>\n",
       "      <td>1.000000</td>\n",
       "      <td>-0.019871</td>\n",
       "    </tr>\n",
       "    <tr>\n",
       "      <th>Defaulted?</th>\n",
       "      <td>-0.005135</td>\n",
       "      <td>-0.035420</td>\n",
       "      <td>0.350119</td>\n",
       "      <td>-0.019871</td>\n",
       "      <td>1.000000</td>\n",
       "    </tr>\n",
       "  </tbody>\n",
       "</table>\n",
       "</div>"
      ],
      "text/plain": [
       "                  Index  Employed  Bank Balance  Annual Salary  Defaulted?\n",
       "Index          1.000000 -0.002597      0.010342      -0.001427   -0.005135\n",
       "Employed      -0.002597  1.000000     -0.203578       0.753985   -0.035420\n",
       "Bank Balance   0.010342 -0.203578      1.000000      -0.152243    0.350119\n",
       "Annual Salary -0.001427  0.753985     -0.152243       1.000000   -0.019871\n",
       "Defaulted?    -0.005135 -0.035420      0.350119      -0.019871    1.000000"
      ]
     },
     "execution_count": 7,
     "metadata": {},
     "output_type": "execute_result"
    }
   ],
   "source": [
    "#looking at the inter-relation or correlation amoung all of the features\n",
    "df.corr()"
   ]
  },
  {
   "cell_type": "code",
   "execution_count": 8,
   "id": "faf6a80d",
   "metadata": {},
   "outputs": [],
   "source": [
    "#Dropping \"Defaulted?\" and taking remaining as independent variable X\n",
    "X = df.drop(['Defaulted?'], axis=\"columns\")\n",
    "\n",
    "#Taking \"Defaulted?\" as dependent variable Y\n",
    "Y = df[\"Defaulted?\"]"
   ]
  },
  {
   "cell_type": "code",
   "execution_count": 9,
   "id": "2ff142ab",
   "metadata": {},
   "outputs": [],
   "source": [
    "#Importing required libraries for splitting dataset \n",
    "from sklearn.model_selection import train_test_split\n",
    "\n",
    "#Diving dataset to X_train and Y_train as training variables and y_train and y_test as testing variables\n",
    "#Making the ratio of 70% training and 30% testing as it is most efficient ratio.\n",
    "\n",
    "x_train, x_test, y_train, y_test = train_test_split(X,Y, test_size = 0.30, random_state = 0)"
   ]
  },
  {
   "cell_type": "code",
   "execution_count": 10,
   "id": "961e648e",
   "metadata": {},
   "outputs": [],
   "source": [
    "#Importing the Logistic Regression \n",
    "from sklearn.linear_model import LogisticRegression\n",
    "\n",
    "#Creating Logistic Regression object\n",
    "lr = LogisticRegression()"
   ]
  },
  {
   "cell_type": "code",
   "execution_count": 11,
   "id": "c069bb29",
   "metadata": {},
   "outputs": [
    {
     "data": {
      "text/plain": [
       "LogisticRegression()"
      ]
     },
     "execution_count": 11,
     "metadata": {},
     "output_type": "execute_result"
    }
   ],
   "source": [
    "#Fitting model with x_train and y_train variables\n",
    "lr.fit(x_train,y_train)"
   ]
  },
  {
   "cell_type": "code",
   "execution_count": 12,
   "id": "ca88dc54",
   "metadata": {},
   "outputs": [
    {
     "data": {
      "text/plain": [
       "array([0, 0, 0, ..., 0, 0, 0], dtype=int64)"
      ]
     },
     "execution_count": 12,
     "metadata": {},
     "output_type": "execute_result"
    }
   ],
   "source": [
    "Yhat=lr.predict(x_test)\n",
    "Yhat"
   ]
  },
  {
   "cell_type": "code",
   "execution_count": 13,
   "id": "1315d4de",
   "metadata": {},
   "outputs": [
    {
     "data": {
      "text/plain": [
       "0.9662857142857143"
      ]
     },
     "execution_count": 13,
     "metadata": {},
     "output_type": "execute_result"
    }
   ],
   "source": [
    "lr.score(x_train,y_train)"
   ]
  },
  {
   "cell_type": "code",
   "execution_count": 14,
   "id": "d68042e9",
   "metadata": {},
   "outputs": [
    {
     "data": {
      "text/plain": [
       "0.961"
      ]
     },
     "execution_count": 14,
     "metadata": {},
     "output_type": "execute_result"
    }
   ],
   "source": [
    "lr.score(x_test,y_test)"
   ]
  },
  {
   "cell_type": "code",
   "execution_count": null,
   "id": "55f2b84d",
   "metadata": {},
   "outputs": [],
   "source": []
  }
 ],
 "metadata": {
  "kernelspec": {
   "display_name": "Python 3",
   "language": "python",
   "name": "python3"
  },
  "language_info": {
   "codemirror_mode": {
    "name": "ipython",
    "version": 3
   },
   "file_extension": ".py",
   "mimetype": "text/x-python",
   "name": "python",
   "nbconvert_exporter": "python",
   "pygments_lexer": "ipython3",
   "version": "3.8.8"
  }
 },
 "nbformat": 4,
 "nbformat_minor": 5
}
